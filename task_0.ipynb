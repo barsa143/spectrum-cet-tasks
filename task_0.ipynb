{
  "nbformat": 4,
  "nbformat_minor": 0,
  "metadata": {
    "colab": {
      "name": "task 0.ipynb",
      "provenance": [],
      "authorship_tag": "ABX9TyMTvcD2jJfrE+fDrx0+xtn6",
      "include_colab_link": true
    },
    "kernelspec": {
      "name": "python3",
      "display_name": "Python 3"
    }
  },
  "cells": [
    {
      "cell_type": "markdown",
      "metadata": {
        "id": "view-in-github",
        "colab_type": "text"
      },
      "source": [
        "<a href=\"https://colab.research.google.com/github/barsa143/spectrum-cet-tasks/blob/master/task_0.ipynb\" target=\"_parent\"><img src=\"https://colab.research.google.com/assets/colab-badge.svg\" alt=\"Open In Colab\"/></a>"
      ]
    },
    {
      "cell_type": "code",
      "metadata": {
        "id": "DMirIS7Hw2q3",
        "colab_type": "code",
        "colab": {}
      },
      "source": [
        "# question 1\n",
        "# accept two integers from user and return their product and if the product is greater than 1000, then return their sum\n",
        "\n",
        "\n",
        "def func(x, y):\n",
        "    addition = x + y\n",
        "    return addition\n",
        "\n",
        "\n",
        "a = int(input(\"enter a no\"))\n",
        "b = int(input(\"enter another no\"))\n",
        "p = a * b\n",
        "if p > 1000:\n",
        "    print(\"sum is\", func(a, b))\n",
        "else:\n",
        "    print(\"product is\", p)\n"
      ],
      "execution_count": 0,
      "outputs": []
    },
    {
      "cell_type": "code",
      "metadata": {
        "id": "AHcYmhqow4Zj",
        "colab_type": "code",
        "colab": {}
      },
      "source": [
        "#question 2\n",
        "# accept n number from user and calculate the sum of all number between 1 and n including n\n",
        "\n",
        "a = int(input(\"enter a num as i/p\"))\n",
        "k = 0\n",
        "for x in range(1, a + 1, 1):\n",
        "    k = x + k\n",
        "print(\"summation from 1 to \", a, \"is equal to\", k)\n"
      ],
      "execution_count": 0,
      "outputs": []
    },
    {
      "cell_type": "code",
      "metadata": {
        "id": "DbnZb_WfxBvg",
        "colab_type": "code",
        "colab": {}
      },
      "source": [
        "#question 3\n",
        "# given a number count the total number of digits in a number\n",
        "\n",
        "b = int(input(\"enter a no to calculate number of digits\"))\n",
        "i = 0\n",
        "while b > 0:\n",
        "    b = b // 10\n",
        "    i += 1\n",
        "print(\"no of digits in the given number is\", i)"
      ],
      "execution_count": 0,
      "outputs": []
    },
    {
      "cell_type": "code",
      "metadata": {
        "id": "KNZPQie_xNxQ",
        "colab_type": "code",
        "colab": {}
      },
      "source": [
        "#question 4\n",
        "# accept a string from the user and display nly those character which are present at an even index number\n",
        "\n",
        "\n",
        "c = input(\"enter a string\")\n",
        "for index in range(len(c)):\n",
        "    if index % 2 == 0:\n",
        "        print(\"at\", index, \"place character is\", c[index])\n",
        "        print(end='')"
      ],
      "execution_count": 0,
      "outputs": []
    },
    {
      "cell_type": "code",
      "metadata": {
        "id": "cwmzUYMpxZiA",
        "colab_type": "code",
        "colab": {}
      },
      "source": [
        "#question 5\n",
        "# to print all the prime number in a  given interval and also check is a given input number is prime or not\n",
        "\n",
        "x = int(input(\"enter lower limit:\"))\n",
        "y = int(input(\"enter upper limit:\"))\n",
        "for i in range(x, y, 1):\n",
        "    if i > 1:\n",
        "        for j in range(2, i, 1):\n",
        "            if i % j == 0:\n",
        "                break\n",
        "        else:\n",
        "            print(i)\n",
        "n = int(input(\"enter a no to check:\"))\n",
        "if n > 1:\n",
        "    for k in range(2, n):\n",
        "        if (n % k) == 0:\n",
        "            print(n, \"is not a prime number\")\n",
        "            print(k, \"times\", n // k, \"is\", n)\n",
        "            break\n",
        "    else:\n",
        "        print(n, \"is a prime number\")\n",
        "else:\n",
        "    print(n, \"is not a prime no\")\n"
      ],
      "execution_count": 0,
      "outputs": []
    },
    {
      "cell_type": "code",
      "metadata": {
        "id": "myuvNfHvzrsT",
        "colab_type": "code",
        "colab": {}
      },
      "source": [
        "#question 7\n",
        "#Program to display the Fibonacci sequence up to n-th term\n",
        "nterms = int(input(\"How many terms? \"))\n",
        "\n",
        "# first two terms\n",
        "n1, n2 = 0, 1\n",
        "count = 0"
      ],
      "execution_count": 0,
      "outputs": []
    },
    {
      "cell_type": "code",
      "metadata": {
        "id": "KiF3iINmxkGR",
        "colab_type": "code",
        "colab": {}
      },
      "source": [
        "#question 8\n",
        "# to print the fibonacci series and check if a given input no is fibonacci number or not\n",
        "\n",
        "\n",
        "def fibs(n):\n",
        "    a = 0\n",
        "    b = 1\n",
        "    if n == 1:\n",
        "        print(a)\n",
        "    else:\n",
        "        print(a)\n",
        "        print(b)\n",
        "\n",
        "        for c in range(2, n):\n",
        "            c = a + b\n",
        "            a = b\n",
        "            b = c\n",
        "            print(c)\n",
        "\n",
        "\n",
        "x = int(input(\"enter a no\"))\n",
        "fibs(x)"
      ],
      "execution_count": 0,
      "outputs": []
    }
  ]
}